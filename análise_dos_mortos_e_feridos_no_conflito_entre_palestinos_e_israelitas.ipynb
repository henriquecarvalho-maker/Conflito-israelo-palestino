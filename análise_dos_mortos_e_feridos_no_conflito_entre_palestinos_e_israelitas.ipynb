{
 "cells": [
  {
   "cell_type": "markdown",
   "id": "f99afc1f",
   "metadata": {},
   "source": [
    "<h1 style='font-size: 35px; color: DarkBlue;'>Conflito israelo-palestino</h1>\n",
    "<hr>"
   ]
  },
  {
   "cell_type": "code",
   "execution_count": 112,
   "id": "3bce8219",
   "metadata": {},
   "outputs": [],
   "source": [
    "import pandas as pd\n",
    "import seaborn as sns\n",
    "import numpy as np\n",
    "import matplotlib\n",
    "import matplotlib.pyplot as plt\n",
    "%matplotlib inline\n",
    "sns.set_theme(style='darkgrid')\n",
    "plt.rc('figure', figsize= (11, 5))"
   ]
  },
  {
   "cell_type": "code",
   "execution_count": 113,
   "id": "4536256d",
   "metadata": {},
   "outputs": [],
   "source": [
    "dados = pd.read_csv('dados/Palestine_Body_Count.csv')"
   ]
  },
  {
   "cell_type": "code",
   "execution_count": 114,
   "id": "80afe2bc",
   "metadata": {},
   "outputs": [
    {
     "data": {
      "text/html": [
       "<div>\n",
       "<style scoped>\n",
       "    .dataframe tbody tr th:only-of-type {\n",
       "        vertical-align: middle;\n",
       "    }\n",
       "\n",
       "    .dataframe tbody tr th {\n",
       "        vertical-align: top;\n",
       "    }\n",
       "\n",
       "    .dataframe thead th {\n",
       "        text-align: right;\n",
       "    }\n",
       "</style>\n",
       "<table border=\"1\" class=\"dataframe\">\n",
       "  <thead>\n",
       "    <tr style=\"text-align: right;\">\n",
       "      <th></th>\n",
       "      <th>Year</th>\n",
       "      <th>Month</th>\n",
       "      <th>Palestinians Injuries</th>\n",
       "      <th>Israelis Injuries</th>\n",
       "      <th>Palestinians Killed</th>\n",
       "      <th>Israelis Killed</th>\n",
       "    </tr>\n",
       "  </thead>\n",
       "  <tbody>\n",
       "    <tr>\n",
       "      <th>0</th>\n",
       "      <td>2000.0</td>\n",
       "      <td>DECEMBER</td>\n",
       "      <td>781</td>\n",
       "      <td>NaN</td>\n",
       "      <td>51</td>\n",
       "      <td>8</td>\n",
       "    </tr>\n",
       "    <tr>\n",
       "      <th>1</th>\n",
       "      <td>2000.0</td>\n",
       "      <td>NOVEMBER</td>\n",
       "      <td>3838</td>\n",
       "      <td>NaN</td>\n",
       "      <td>112</td>\n",
       "      <td>22</td>\n",
       "    </tr>\n",
       "    <tr>\n",
       "      <th>2</th>\n",
       "      <td>2000.0</td>\n",
       "      <td>OCTOBER</td>\n",
       "      <td>5984</td>\n",
       "      <td>NaN</td>\n",
       "      <td>104</td>\n",
       "      <td>10</td>\n",
       "    </tr>\n",
       "    <tr>\n",
       "      <th>3</th>\n",
       "      <td>2000.0</td>\n",
       "      <td>SEPTEMBER</td>\n",
       "      <td>NaN</td>\n",
       "      <td>NaN</td>\n",
       "      <td>16</td>\n",
       "      <td>1</td>\n",
       "    </tr>\n",
       "    <tr>\n",
       "      <th>4</th>\n",
       "      <td>2001.0</td>\n",
       "      <td>DECEMBER</td>\n",
       "      <td>304</td>\n",
       "      <td>NaN</td>\n",
       "      <td>67</td>\n",
       "      <td>36</td>\n",
       "    </tr>\n",
       "  </tbody>\n",
       "</table>\n",
       "</div>"
      ],
      "text/plain": [
       "     Year      Month Palestinians Injuries Israelis Injuries  \\\n",
       "0  2000.0   DECEMBER                   781               NaN   \n",
       "1  2000.0   NOVEMBER                  3838               NaN   \n",
       "2  2000.0    OCTOBER                  5984               NaN   \n",
       "3  2000.0  SEPTEMBER                   NaN               NaN   \n",
       "4  2001.0   DECEMBER                   304               NaN   \n",
       "\n",
       "  Palestinians Killed Israelis Killed  \n",
       "0                  51               8  \n",
       "1                 112              22  \n",
       "2                 104              10  \n",
       "3                  16               1  \n",
       "4                  67              36  "
      ]
     },
     "execution_count": 114,
     "metadata": {},
     "output_type": "execute_result"
    }
   ],
   "source": [
    "dados.head()"
   ]
  },
  {
   "cell_type": "markdown",
   "id": "fa25efff",
   "metadata": {},
   "source": [
    "<h3>Limpeza do Dataset</h3>"
   ]
  },
  {
   "cell_type": "markdown",
   "id": "667305de",
   "metadata": {},
   "source": [
    "<p style= 'font-size: 16px; color: DarkBlue;\t'> &diams; Checando variáveis e alterando colunas</p>"
   ]
  },
  {
   "cell_type": "code",
   "execution_count": 115,
   "id": "73e722d7",
   "metadata": {},
   "outputs": [
    {
     "data": {
      "text/plain": [
       "array([2000., 2001., 2002., 2003., 2004., 2005., 2006., 2007., 2008.,\n",
       "       2009., 2010., 2011., 2012., 2013., 2014., 2015., 2016., 2017.,\n",
       "       2018., 2019., 2020., 2021.,   nan])"
      ]
     },
     "execution_count": 115,
     "metadata": {},
     "output_type": "execute_result"
    }
   ],
   "source": [
    "dados['Year'].unique()"
   ]
  },
  {
   "cell_type": "code",
   "execution_count": 116,
   "id": "d55e95dc",
   "metadata": {},
   "outputs": [
    {
     "data": {
      "text/plain": [
       "118"
      ]
     },
     "execution_count": 116,
     "metadata": {},
     "output_type": "execute_result"
    }
   ],
   "source": [
    "dados['Israelis Injuries'].isna().sum()"
   ]
  },
  {
   "cell_type": "code",
   "execution_count": 117,
   "id": "8822714c",
   "metadata": {},
   "outputs": [
    {
     "data": {
      "text/plain": [
       "55"
      ]
     },
     "execution_count": 117,
     "metadata": {},
     "output_type": "execute_result"
    }
   ],
   "source": [
    "dados['Palestinians Injuries'].isna().sum()"
   ]
  },
  {
   "cell_type": "code",
   "execution_count": 118,
   "id": "aaa57330",
   "metadata": {
    "scrolled": true
   },
   "outputs": [
    {
     "name": "stdout",
     "output_type": "stream",
     "text": [
      "Valores nan \"Palestinians Injuries\" =  55\n",
      "Valores nan \"Palestinians Killed\" =  1\n",
      "Valores nan \"Israelis Injuries\" =  118\n",
      "Valores nan \"Israelis Killed\" =  1\n"
     ]
    }
   ],
   "source": [
    "print('Valores nan \"Palestinians Injuries\" = ', dados['Palestinians Injuries'].isna().sum())\n",
    "print('Valores nan \"Palestinians Killed\" = ', dados['Palestinians Killed'].isna().sum())\n",
    "print('Valores nan \"Israelis Injuries\" = ', dados['Israelis Injuries'].isna().sum())\n",
    "print('Valores nan \"Israelis Killed\" = ', dados['Israelis Killed'].isna().sum())"
   ]
  },
  {
   "cell_type": "code",
   "execution_count": 119,
   "id": "2f227b31",
   "metadata": {},
   "outputs": [
    {
     "name": "stdout",
     "output_type": "stream",
     "text": [
      "Ano minimo :  2000.0\n",
      "Ano minimo :  2021.0\n"
     ]
    }
   ],
   "source": [
    "print('Ano minimo : ',dados['Year'].min())\n",
    "print('Ano minimo : ',dados['Year'].max())"
   ]
  },
  {
   "cell_type": "code",
   "execution_count": 120,
   "id": "c3cc3f54",
   "metadata": {},
   "outputs": [
    {
     "data": {
      "text/html": [
       "<div>\n",
       "<style scoped>\n",
       "    .dataframe tbody tr th:only-of-type {\n",
       "        vertical-align: middle;\n",
       "    }\n",
       "\n",
       "    .dataframe tbody tr th {\n",
       "        vertical-align: top;\n",
       "    }\n",
       "\n",
       "    .dataframe thead th {\n",
       "        text-align: right;\n",
       "    }\n",
       "</style>\n",
       "<table border=\"1\" class=\"dataframe\">\n",
       "  <thead>\n",
       "    <tr style=\"text-align: right;\">\n",
       "      <th></th>\n",
       "      <th>year</th>\n",
       "      <th>month</th>\n",
       "      <th>palestinians_injuries</th>\n",
       "      <th>israelis_injuries</th>\n",
       "      <th>palestinians_killed</th>\n",
       "      <th>israelis_killed</th>\n",
       "    </tr>\n",
       "  </thead>\n",
       "  <tbody>\n",
       "    <tr>\n",
       "      <th>0</th>\n",
       "      <td>2000.0</td>\n",
       "      <td>DECEMBER</td>\n",
       "      <td>781</td>\n",
       "      <td>NaN</td>\n",
       "      <td>51</td>\n",
       "      <td>8</td>\n",
       "    </tr>\n",
       "    <tr>\n",
       "      <th>1</th>\n",
       "      <td>2000.0</td>\n",
       "      <td>NOVEMBER</td>\n",
       "      <td>3838</td>\n",
       "      <td>NaN</td>\n",
       "      <td>112</td>\n",
       "      <td>22</td>\n",
       "    </tr>\n",
       "    <tr>\n",
       "      <th>2</th>\n",
       "      <td>2000.0</td>\n",
       "      <td>OCTOBER</td>\n",
       "      <td>5984</td>\n",
       "      <td>NaN</td>\n",
       "      <td>104</td>\n",
       "      <td>10</td>\n",
       "    </tr>\n",
       "    <tr>\n",
       "      <th>3</th>\n",
       "      <td>2000.0</td>\n",
       "      <td>SEPTEMBER</td>\n",
       "      <td>NaN</td>\n",
       "      <td>NaN</td>\n",
       "      <td>16</td>\n",
       "      <td>1</td>\n",
       "    </tr>\n",
       "    <tr>\n",
       "      <th>4</th>\n",
       "      <td>2001.0</td>\n",
       "      <td>DECEMBER</td>\n",
       "      <td>304</td>\n",
       "      <td>NaN</td>\n",
       "      <td>67</td>\n",
       "      <td>36</td>\n",
       "    </tr>\n",
       "  </tbody>\n",
       "</table>\n",
       "</div>"
      ],
      "text/plain": [
       "     year      month palestinians_injuries israelis_injuries  \\\n",
       "0  2000.0   DECEMBER                   781               NaN   \n",
       "1  2000.0   NOVEMBER                  3838               NaN   \n",
       "2  2000.0    OCTOBER                  5984               NaN   \n",
       "3  2000.0  SEPTEMBER                   NaN               NaN   \n",
       "4  2001.0   DECEMBER                   304               NaN   \n",
       "\n",
       "  palestinians_killed israelis_killed  \n",
       "0                  51               8  \n",
       "1                 112              22  \n",
       "2                 104              10  \n",
       "3                  16               1  \n",
       "4                  67              36  "
      ]
     },
     "execution_count": 120,
     "metadata": {},
     "output_type": "execute_result"
    }
   ],
   "source": [
    "dados_ = dados.rename(columns={'Year': 'year', 'Month': 'month', 'Palestinians Injuries': 'palestinians_injuries', \n",
    "                    'Israelis Injuries': 'israelis_injuries', 'Palestinians Killed': 'palestinians_killed',\n",
    "                    'Israelis Killed': 'israelis_killed'})\n",
    "dados_.head()"
   ]
  },
  {
   "cell_type": "markdown",
   "id": "9bc48287",
   "metadata": {},
   "source": [
    "<p style= 'font-size: 16px; color: DarkBlue;'> &diams; Removendo valores Nan</p>"
   ]
  },
  {
   "cell_type": "code",
   "execution_count": 121,
   "id": "5af48437",
   "metadata": {},
   "outputs": [
    {
     "data": {
      "text/html": [
       "<div>\n",
       "<style scoped>\n",
       "    .dataframe tbody tr th:only-of-type {\n",
       "        vertical-align: middle;\n",
       "    }\n",
       "\n",
       "    .dataframe tbody tr th {\n",
       "        vertical-align: top;\n",
       "    }\n",
       "\n",
       "    .dataframe thead th {\n",
       "        text-align: right;\n",
       "    }\n",
       "</style>\n",
       "<table border=\"1\" class=\"dataframe\">\n",
       "  <thead>\n",
       "    <tr style=\"text-align: right;\">\n",
       "      <th></th>\n",
       "      <th>year</th>\n",
       "      <th>month</th>\n",
       "      <th>palestinians_injuries</th>\n",
       "      <th>israelis_injuries</th>\n",
       "      <th>palestinians_killed</th>\n",
       "      <th>israelis_killed</th>\n",
       "    </tr>\n",
       "  </thead>\n",
       "  <tbody>\n",
       "    <tr>\n",
       "      <th>0</th>\n",
       "      <td>2000.0</td>\n",
       "      <td>DECEMBER</td>\n",
       "      <td>781</td>\n",
       "      <td>0</td>\n",
       "      <td>51</td>\n",
       "      <td>8</td>\n",
       "    </tr>\n",
       "    <tr>\n",
       "      <th>1</th>\n",
       "      <td>2000.0</td>\n",
       "      <td>NOVEMBER</td>\n",
       "      <td>3838</td>\n",
       "      <td>0</td>\n",
       "      <td>112</td>\n",
       "      <td>22</td>\n",
       "    </tr>\n",
       "    <tr>\n",
       "      <th>2</th>\n",
       "      <td>2000.0</td>\n",
       "      <td>OCTOBER</td>\n",
       "      <td>5984</td>\n",
       "      <td>0</td>\n",
       "      <td>104</td>\n",
       "      <td>10</td>\n",
       "    </tr>\n",
       "    <tr>\n",
       "      <th>3</th>\n",
       "      <td>2000.0</td>\n",
       "      <td>SEPTEMBER</td>\n",
       "      <td>0</td>\n",
       "      <td>0</td>\n",
       "      <td>16</td>\n",
       "      <td>1</td>\n",
       "    </tr>\n",
       "    <tr>\n",
       "      <th>4</th>\n",
       "      <td>2001.0</td>\n",
       "      <td>DECEMBER</td>\n",
       "      <td>304</td>\n",
       "      <td>0</td>\n",
       "      <td>67</td>\n",
       "      <td>36</td>\n",
       "    </tr>\n",
       "    <tr>\n",
       "      <th>...</th>\n",
       "      <td>...</td>\n",
       "      <td>...</td>\n",
       "      <td>...</td>\n",
       "      <td>...</td>\n",
       "      <td>...</td>\n",
       "      <td>...</td>\n",
       "    </tr>\n",
       "    <tr>\n",
       "      <th>246</th>\n",
       "      <td>2021.0</td>\n",
       "      <td>MARCH</td>\n",
       "      <td>0</td>\n",
       "      <td>0</td>\n",
       "      <td>4</td>\n",
       "      <td>0</td>\n",
       "    </tr>\n",
       "    <tr>\n",
       "      <th>247</th>\n",
       "      <td>2021.0</td>\n",
       "      <td>APRIL</td>\n",
       "      <td>0</td>\n",
       "      <td>0</td>\n",
       "      <td>1</td>\n",
       "      <td>0</td>\n",
       "    </tr>\n",
       "    <tr>\n",
       "      <th>248</th>\n",
       "      <td>2021.0</td>\n",
       "      <td>MAY</td>\n",
       "      <td>0</td>\n",
       "      <td>0</td>\n",
       "      <td>26</td>\n",
       "      <td>3</td>\n",
       "    </tr>\n",
       "    <tr>\n",
       "      <th>249</th>\n",
       "      <td>0.0</td>\n",
       "      <td>0</td>\n",
       "      <td>0</td>\n",
       "      <td>0</td>\n",
       "      <td>0</td>\n",
       "      <td>0</td>\n",
       "    </tr>\n",
       "    <tr>\n",
       "      <th>250</th>\n",
       "      <td>0.0</td>\n",
       "      <td>0</td>\n",
       "      <td>111,475</td>\n",
       "      <td>5,160</td>\n",
       "      <td>10,000</td>\n",
       "      <td>1,275</td>\n",
       "    </tr>\n",
       "  </tbody>\n",
       "</table>\n",
       "<p>251 rows × 6 columns</p>\n",
       "</div>"
      ],
      "text/plain": [
       "       year      month palestinians_injuries israelis_injuries  \\\n",
       "0    2000.0   DECEMBER                   781                 0   \n",
       "1    2000.0   NOVEMBER                  3838                 0   \n",
       "2    2000.0    OCTOBER                  5984                 0   \n",
       "3    2000.0  SEPTEMBER                     0                 0   \n",
       "4    2001.0   DECEMBER                   304                 0   \n",
       "..      ...        ...                   ...               ...   \n",
       "246  2021.0      MARCH                     0                 0   \n",
       "247  2021.0      APRIL                     0                 0   \n",
       "248  2021.0        MAY                     0                 0   \n",
       "249     0.0          0                     0                 0   \n",
       "250     0.0          0               111,475             5,160   \n",
       "\n",
       "    palestinians_killed israelis_killed  \n",
       "0                    51               8  \n",
       "1                   112              22  \n",
       "2                   104              10  \n",
       "3                    16               1  \n",
       "4                    67              36  \n",
       "..                  ...             ...  \n",
       "246                   4               0  \n",
       "247                   1               0  \n",
       "248                  26               3  \n",
       "249                   0               0  \n",
       "250              10,000           1,275  \n",
       "\n",
       "[251 rows x 6 columns]"
      ]
     },
     "execution_count": 121,
     "metadata": {},
     "output_type": "execute_result"
    }
   ],
   "source": [
    "dados_.fillna(0)"
   ]
  },
  {
   "cell_type": "code",
   "execution_count": 122,
   "id": "a287e550",
   "metadata": {},
   "outputs": [],
   "source": [
    "dados_['israelis_killed'] = dados_['israelis_killed'].str.strip()\n",
    "dados_['palestinians_killed'] = dados_['palestinians_killed'].str.strip()\n",
    "dados_['israelis_injuries'] = dados_['israelis_injuries'].str.strip()\n",
    "dados_['palestinians_injuries'] = dados_['palestinians_injuries'].str.strip()"
   ]
  },
  {
   "cell_type": "markdown",
   "id": "fdf67c75",
   "metadata": {},
   "source": [
    "<p style= 'font-size: 16px; color: DarkBlue;'> &diams; Convertendo <b>Vírgula</b> para <b>Ponto</b> e transformando em inteiro</p>"
   ]
  },
  {
   "cell_type": "code",
   "execution_count": 123,
   "id": "fbb86253",
   "metadata": {},
   "outputs": [],
   "source": [
    "dados_['israelis_killed'] = dados_['israelis_killed'].str.replace(',', '.')\n",
    "dados_['palestinians_killed'] = dados_['palestinians_killed'].str.replace(',', '.')\n",
    "dados_['israelis_injuries'] = dados_['israelis_injuries'].str.replace(',', '.')\n",
    "dados_['palestinians_injuries'] = dados_['palestinians_injuries'].str.replace(',', '.')"
   ]
  },
  {
   "cell_type": "code",
   "execution_count": 124,
   "id": "e5d8d298",
   "metadata": {},
   "outputs": [
    {
     "name": "stderr",
     "output_type": "stream",
     "text": [
      "C:\\Users\\henri\\AppData\\Local\\Temp\\ipykernel_19504\\1562349070.py:2: FutureWarning: In a future version, `df.iloc[:, i] = newvals` will attempt to set the values inplace instead of always setting a new array. To retain the old behavior, use either `df[df.columns[i]] = newvals` or, if columns are non-unique, `df.isetitem(i, newvals)`\n",
      "  dados_.loc[:, 'year'] = dados_['year'].astype('int64')\n"
     ]
    }
   ],
   "source": [
    "dados_ = dados_.dropna(subset=['year'])\n",
    "dados_.loc[:, 'year'] = dados_['year'].astype('int64')"
   ]
  },
  {
   "cell_type": "markdown",
   "id": "538ff9d8",
   "metadata": {},
   "source": [
    "<p style= 'font-size: 16px; color: DarkBlue;'> &diams; Remoção de Strings e Conversão de valores das variáveis para <b>Numérico</b></p>"
   ]
  },
  {
   "cell_type": "code",
   "execution_count": 125,
   "id": "8503599e",
   "metadata": {},
   "outputs": [
    {
     "data": {
      "text/plain": [
       "array(['DECEMBER', 'NOVEMBER', 'OCTOBER', 'SEPTEMBER', 'AUGUST', 'JULY',\n",
       "       'JUNE', 'MAY', 'APRIL', 'MARCH', 'FEBRUARY', 'JANUARY',\n",
       "       'MAY & JUNE', 'MAY '], dtype=object)"
      ]
     },
     "execution_count": 125,
     "metadata": {},
     "output_type": "execute_result"
    }
   ],
   "source": [
    "dados_['month'].unique()"
   ]
  },
  {
   "cell_type": "code",
   "execution_count": 126,
   "id": "1b2de164",
   "metadata": {},
   "outputs": [
    {
     "data": {
      "text/html": [
       "<div>\n",
       "<style scoped>\n",
       "    .dataframe tbody tr th:only-of-type {\n",
       "        vertical-align: middle;\n",
       "    }\n",
       "\n",
       "    .dataframe tbody tr th {\n",
       "        vertical-align: top;\n",
       "    }\n",
       "\n",
       "    .dataframe thead th {\n",
       "        text-align: right;\n",
       "    }\n",
       "</style>\n",
       "<table border=\"1\" class=\"dataframe\">\n",
       "  <thead>\n",
       "    <tr style=\"text-align: right;\">\n",
       "      <th></th>\n",
       "      <th>year</th>\n",
       "      <th>month</th>\n",
       "      <th>palestinians_injuries</th>\n",
       "      <th>israelis_injuries</th>\n",
       "      <th>palestinians_killed</th>\n",
       "      <th>israelis_killed</th>\n",
       "    </tr>\n",
       "  </thead>\n",
       "  <tbody>\n",
       "    <tr>\n",
       "      <th>165</th>\n",
       "      <td>2014</td>\n",
       "      <td>JULY</td>\n",
       "      <td>(incl. Aug)</td>\n",
       "      <td>(incl. Aug)</td>\n",
       "      <td>1590</td>\n",
       "      <td>59</td>\n",
       "    </tr>\n",
       "  </tbody>\n",
       "</table>\n",
       "</div>"
      ],
      "text/plain": [
       "     year month palestinians_injuries israelis_injuries palestinians_killed  \\\n",
       "165  2014  JULY           (incl. Aug)       (incl. Aug)                1590   \n",
       "\n",
       "    israelis_killed  \n",
       "165              59  "
      ]
     },
     "execution_count": 126,
     "metadata": {},
     "output_type": "execute_result"
    }
   ],
   "source": [
    "dados_[dados_['palestinians_injuries'] == '(incl. Aug)']"
   ]
  },
  {
   "cell_type": "code",
   "execution_count": 127,
   "id": "c641021c",
   "metadata": {},
   "outputs": [
    {
     "data": {
      "text/html": [
       "<div>\n",
       "<style scoped>\n",
       "    .dataframe tbody tr th:only-of-type {\n",
       "        vertical-align: middle;\n",
       "    }\n",
       "\n",
       "    .dataframe tbody tr th {\n",
       "        vertical-align: top;\n",
       "    }\n",
       "\n",
       "    .dataframe thead th {\n",
       "        text-align: right;\n",
       "    }\n",
       "</style>\n",
       "<table border=\"1\" class=\"dataframe\">\n",
       "  <thead>\n",
       "    <tr style=\"text-align: right;\">\n",
       "      <th></th>\n",
       "      <th>year</th>\n",
       "      <th>month</th>\n",
       "      <th>palestinians_injuries</th>\n",
       "      <th>israelis_injuries</th>\n",
       "      <th>palestinians_killed</th>\n",
       "      <th>israelis_killed</th>\n",
       "    </tr>\n",
       "  </thead>\n",
       "  <tbody>\n",
       "    <tr>\n",
       "      <th>165</th>\n",
       "      <td>2014</td>\n",
       "      <td>JULY</td>\n",
       "      <td>(incl. Aug)</td>\n",
       "      <td>(incl. Aug)</td>\n",
       "      <td>1590</td>\n",
       "      <td>59</td>\n",
       "    </tr>\n",
       "  </tbody>\n",
       "</table>\n",
       "</div>"
      ],
      "text/plain": [
       "     year month palestinians_injuries israelis_injuries palestinians_killed  \\\n",
       "165  2014  JULY           (incl. Aug)       (incl. Aug)                1590   \n",
       "\n",
       "    israelis_killed  \n",
       "165              59  "
      ]
     },
     "execution_count": 127,
     "metadata": {},
     "output_type": "execute_result"
    }
   ],
   "source": [
    "dados_[dados_['israelis_injuries'] == '(incl. Aug)']"
   ]
  },
  {
   "cell_type": "code",
   "execution_count": 128,
   "id": "fcd2e5d7",
   "metadata": {},
   "outputs": [
    {
     "data": {
      "text/plain": [
       "array(['781', '3838', '5984', nan, '304', '160', '407', '657', '502',\n",
       "       '394', '319', '932', '715', '927', '598', '471', '185', '264',\n",
       "       '388', '353', '186', '374', '299', '181', '523', '870', '429',\n",
       "       '330', '322', '106', '289', '226', '191', '34', '367', '239',\n",
       "       '303', '379', '244', '292', '161', '98', '343', '579', '287',\n",
       "       '251', '377', '545', '346', '417', '437', '168', '166', '99', '81',\n",
       "       '90', '130', '165', '116', '183', '68', '42', '164', '73', '491',\n",
       "       '180', '196', '266', '799', '198', '257', '254', '203', '194',\n",
       "       '88', '13720', '127', '152', '135', '154', '67', '162', '281',\n",
       "       '115', '153', '256', '104', '195', '30', '80', '36', '26', '89',\n",
       "       '82', '136', '87', '65', '5557', '105', '147', '148', '46', '85',\n",
       "       '118', '119', '402', '92', '86', '210', '63', '110', '149', '156',\n",
       "       '159', '397', '193', '204', '143', '2252', '169', '202', '231',\n",
       "       '703', '404', '60', '320', '137', '138', '124', '656', '493',\n",
       "       '766', '263', '350', '984', '291', '209', '13735', '(incl. Aug)',\n",
       "       '326', '265', '302', '228', '216', '219', '2222', '3888', '7555',\n",
       "       '413', '141', '78', '284', '223', '176', '167', '134', '97', '261',\n",
       "       '434', '286', '348', '514', '582', '4580', '120', '1772', '790',\n",
       "       '(incl. Jun)', '150', '189', '44'], dtype=object)"
      ]
     },
     "execution_count": 128,
     "metadata": {},
     "output_type": "execute_result"
    }
   ],
   "source": [
    "dados_['palestinians_injuries'].unique()"
   ]
  },
  {
   "cell_type": "code",
   "execution_count": 129,
   "id": "49c4ad29",
   "metadata": {},
   "outputs": [
    {
     "data": {
      "text/plain": [
       "array([nan, '88', '17', '46', '25', '16', '105', '20', '19', '62', '61',\n",
       "       '12', '30', '24', '10', '41', '26', '14', '78', '47', '6', '13',\n",
       "       '87', '56', '7', '22', '15', '35', '5', '11', '0', '21', '59', '3',\n",
       "       '9', '36', '253', '1', '4', '33', '55', '32', '2347',\n",
       "       '(incl. Aug)', '28', '43', '50', '80', '39', '8', '18', '2', '27',\n",
       "       '23', '(incl. Jun)', '37'], dtype=object)"
      ]
     },
     "execution_count": 129,
     "metadata": {},
     "output_type": "execute_result"
    }
   ],
   "source": [
    "dados_['israelis_injuries'].unique()"
   ]
  },
  {
   "cell_type": "code",
   "execution_count": 130,
   "id": "10a1f563",
   "metadata": {},
   "outputs": [],
   "source": [
    "dados_['palestinians_injuries'] = dados_['palestinians_injuries'].replace('(incl. Aug)', '0')\n",
    "dados_['palestinians_injuries'] = dados_['palestinians_injuries'].replace('(incl. Jun)', '0')\n",
    "\n",
    "dados_['israelis_injuries'] = dados_['israelis_injuries'].replace('(incl. Aug)', '0')\n",
    "dados_['israelis_injuries'] = dados_['israelis_injuries'].replace('(incl. Jun)', '0')"
   ]
  },
  {
   "cell_type": "code",
   "execution_count": 131,
   "id": "679328c1",
   "metadata": {},
   "outputs": [
    {
     "data": {
      "text/html": [
       "<div>\n",
       "<style scoped>\n",
       "    .dataframe tbody tr th:only-of-type {\n",
       "        vertical-align: middle;\n",
       "    }\n",
       "\n",
       "    .dataframe tbody tr th {\n",
       "        vertical-align: top;\n",
       "    }\n",
       "\n",
       "    .dataframe thead th {\n",
       "        text-align: right;\n",
       "    }\n",
       "</style>\n",
       "<table border=\"1\" class=\"dataframe\">\n",
       "  <thead>\n",
       "    <tr style=\"text-align: right;\">\n",
       "      <th></th>\n",
       "      <th>year</th>\n",
       "      <th>month</th>\n",
       "      <th>palestinians_injuries</th>\n",
       "      <th>israelis_injuries</th>\n",
       "      <th>palestinians_killed</th>\n",
       "      <th>israelis_killed</th>\n",
       "    </tr>\n",
       "  </thead>\n",
       "  <tbody>\n",
       "    <tr>\n",
       "      <th>203</th>\n",
       "      <td>2017</td>\n",
       "      <td>MAY &amp; JUNE</td>\n",
       "      <td>0</td>\n",
       "      <td>0</td>\n",
       "      <td>6</td>\n",
       "      <td>0</td>\n",
       "    </tr>\n",
       "  </tbody>\n",
       "</table>\n",
       "</div>"
      ],
      "text/plain": [
       "     year       month palestinians_injuries israelis_injuries  \\\n",
       "203  2017  MAY & JUNE                     0                 0   \n",
       "\n",
       "    palestinians_killed israelis_killed  \n",
       "203                   6               0  "
      ]
     },
     "execution_count": 131,
     "metadata": {},
     "output_type": "execute_result"
    }
   ],
   "source": [
    "dados_[dados_['month'] == 'MAY & JUNE']"
   ]
  },
  {
   "cell_type": "code",
   "execution_count": 132,
   "id": "a7a9c66a",
   "metadata": {},
   "outputs": [],
   "source": [
    "dados_['month'] = dados_['month'].replace('MAY & JUNE', 'MAY')"
   ]
  },
  {
   "cell_type": "code",
   "execution_count": null,
   "id": "615e2e84",
   "metadata": {},
   "outputs": [],
   "source": []
  },
  {
   "cell_type": "code",
   "execution_count": 133,
   "id": "aada5c5a",
   "metadata": {},
   "outputs": [],
   "source": [
    "dados_['israelis_killed'] = pd.to_numeric(dados_['israelis_killed'])\n",
    "dados_['palestinians_killed'] = pd.to_numeric(dados_['palestinians_killed'])\n",
    "dados_['israelis_injuries'] = pd.to_numeric(dados_['israelis_injuries'])\n",
    "dados_['palestinians_injuries'] = pd.to_numeric(dados_['palestinians_injuries'])"
   ]
  },
  {
   "cell_type": "code",
   "execution_count": null,
   "id": "d46c28ff",
   "metadata": {},
   "outputs": [],
   "source": []
  },
  {
   "cell_type": "markdown",
   "id": "7dfa7935",
   "metadata": {},
   "source": [
    "<p style= 'font-size: 16px; color: DarkBlue;'> &diams; Testando as variáveis limpadas</p>"
   ]
  },
  {
   "cell_type": "code",
   "execution_count": 134,
   "id": "a396a433",
   "metadata": {},
   "outputs": [
    {
     "data": {
      "text/plain": [
       "[<matplotlib.lines.Line2D at 0x24ab962c5b0>]"
      ]
     },
     "execution_count": 134,
     "metadata": {},
     "output_type": "execute_result"
    },
    {
     "data": {
      "image/png": "[encoded data removed]",
      "text/plain": [
       "<Figure size 1100x500 with 4 Axes>"
      ]
     },
     "metadata": {},
     "output_type": "display_data"
    }
   ],
   "source": [
    "fig = plt.figure()\n",
    "gs = fig.add_gridspec(2, 2)\n",
    "(ax1, ax2), (ax3, ax4) = gs.subplots()\n",
    "fig.suptitle('Teste de Variáveis')\n",
    "ax1.plot(dados_['israelis_killed'])\n",
    "ax2.plot(dados_['palestinians_killed'])\n",
    "ax3.plot(dados_['israelis_injuries'])\n",
    "ax4.plot(dados_['palestinians_injuries'])"
   ]
  },
  {
   "cell_type": "markdown",
   "id": "d3a4340d",
   "metadata": {},
   "source": [
    "<h2>Análise Descritiva</h2>"
   ]
  },
  {
   "cell_type": "code",
   "execution_count": 136,
   "id": "d627401f",
   "metadata": {},
   "outputs": [],
   "source": [
    "selec_00_09 = dados_.query('year <= 2009')"
   ]
  },
  {
   "cell_type": "code",
   "execution_count": 137,
   "id": "dbc99787",
   "metadata": {},
   "outputs": [],
   "source": [
    "selec_10_21 = dados_.query('year >= 2010')"
   ]
  },
  {
   "cell_type": "code",
   "execution_count": 138,
   "id": "8ec22aac",
   "metadata": {},
   "outputs": [],
   "source": [
    "total_isr = selec_00_09['israelis_killed'].sum()"
   ]
  },
  {
   "cell_type": "code",
   "execution_count": 139,
   "id": "a54e72f7",
   "metadata": {},
   "outputs": [],
   "source": [
    "total_pales = selec_00_09['palestinians_killed'].sum()"
   ]
  },
  {
   "cell_type": "code",
   "execution_count": 140,
   "id": "77a75806",
   "metadata": {},
   "outputs": [
    {
     "data": {
      "text/html": [
       "<div>\n",
       "<style scoped>\n",
       "    .dataframe tbody tr th:only-of-type {\n",
       "        vertical-align: middle;\n",
       "    }\n",
       "\n",
       "    .dataframe tbody tr th {\n",
       "        vertical-align: top;\n",
       "    }\n",
       "\n",
       "    .dataframe thead th {\n",
       "        text-align: right;\n",
       "    }\n",
       "</style>\n",
       "<table border=\"1\" class=\"dataframe\">\n",
       "  <thead>\n",
       "    <tr style=\"text-align: right;\">\n",
       "      <th></th>\n",
       "      <th>Beligerantes</th>\n",
       "      <th>Total 2000 - 2009</th>\n",
       "    </tr>\n",
       "  </thead>\n",
       "  <tbody>\n",
       "    <tr>\n",
       "      <th>0</th>\n",
       "      <td>Palestinos</td>\n",
       "      <td>6321</td>\n",
       "    </tr>\n",
       "    <tr>\n",
       "      <th>1</th>\n",
       "      <td>Israelenses</td>\n",
       "      <td>1072</td>\n",
       "    </tr>\n",
       "  </tbody>\n",
       "</table>\n",
       "</div>"
      ],
      "text/plain": [
       "  Beligerantes  Total 2000 - 2009\n",
       "0   Palestinos               6321\n",
       "1  Israelenses               1072"
      ]
     },
     "execution_count": 140,
     "metadata": {},
     "output_type": "execute_result"
    }
   ],
   "source": [
    "data_df = {'Beligerantes': ['Palestinos', 'Israelenses'], 'Total 2000 - 2009': [total_pales, total_isr]}\n",
    "df_data = pd.DataFrame(data_df)\n",
    "df_data"
   ]
  },
  {
   "cell_type": "code",
   "execution_count": 147,
   "id": "e01ca2ea",
   "metadata": {},
   "outputs": [
    {
     "data": {
      "text/plain": [
       "Text(0.5, 0, 'Beligerantes')"
      ]
     },
     "execution_count": 147,
     "metadata": {},
     "output_type": "execute_result"
    },
    {
     "data": {
      "image/png": "[encoded data removed]",
      "text/plain": [
       "<Figure size 1100x500 with 1 Axes>"
      ]
     },
     "metadata": {},
     "output_type": "display_data"
    }
   ],
   "source": [
    "ax = sns.barplot(df_data, x='Beligerantes', y='Total 2000 - 2009')\n",
    "ax.set_title('Total de Baixas de Palestinos e Israelenses (2000 - 2009)', fontsize=12)\n",
    "ax.set_ylabel('Total 2000 - 2009', fontsize=10)\n",
    "ax.set_xlabel('Beligerantes', fontsize=10)"
   ]
  },
  {
   "cell_type": "code",
   "execution_count": null,
   "id": "ecbde57f",
   "metadata": {},
   "outputs": [],
   "source": []
  },
  {
   "cell_type": "code",
   "execution_count": null,
   "id": "6d1ed09b",
   "metadata": {},
   "outputs": [],
   "source": []
  },
  {
   "cell_type": "code",
   "execution_count": null,
   "id": "8b741b89",
   "metadata": {},
   "outputs": [],
   "source": []
  },
  {
   "cell_type": "code",
   "execution_count": null,
   "id": "9723cb2b",
   "metadata": {},
   "outputs": [],
   "source": []
  }
 ],
 "metadata": {
  "kernelspec": {
   "display_name": "Python 3 (ipykernel)",
   "language": "python",
   "name": "python3"
  },
  "language_info": {
   "codemirror_mode": {
    "name": "ipython",
    "version": 3
   },
   "file_extension": ".py",
   "mimetype": "text/x-python",
   "name": "python",
   "nbconvert_exporter": "python",
   "pygments_lexer": "ipython3",
   "version": "3.9.12"
  }
 },
 "nbformat": 4,
 "nbformat_minor": 5
}
