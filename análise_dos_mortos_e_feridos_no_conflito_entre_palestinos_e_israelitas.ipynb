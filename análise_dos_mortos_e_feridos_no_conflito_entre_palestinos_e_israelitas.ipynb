{
 "cells": [
  {
   "cell_type": "markdown",
   "id": "f99afc1f",
   "metadata": {},
   "source": [
    "<h1 style='font-size: 35px; color: DarkBlue;'>Conflito israelo-palestino</h1>\n",
    "<hr>"
   ]
  },
  {
   "cell_type": "code",
   "execution_count": 168,
   "id": "3bce8219",
   "metadata": {},
   "outputs": [],
   "source": [
    "import pandas as pd\n",
    "import seaborn as sns\n",
    "import numpy as np\n",
    "import matplotlib\n",
    "import matplotlib.pyplot as plt\n",
    "%matplotlib inline\n",
    "sns.set_theme(style='darkgrid')\n",
    "plt.rc('figure', figsize= (11, 5))"
   ]
  },
  {
   "cell_type": "code",
   "execution_count": 169,
   "id": "4536256d",
   "metadata": {},
   "outputs": [],
   "source": [
    "dados = pd.read_csv('dados/Palestine_Body_Count.csv')"
   ]
  },
  {
   "cell_type": "code",
   "execution_count": 170,
   "id": "80afe2bc",
   "metadata": {},
   "outputs": [
    {
     "data": {
      "text/html": [
       "<div>\n",
       "<style scoped>\n",
       "    .dataframe tbody tr th:only-of-type {\n",
       "        vertical-align: middle;\n",
       "    }\n",
       "\n",
       "    .dataframe tbody tr th {\n",
       "        vertical-align: top;\n",
       "    }\n",
       "\n",
       "    .dataframe thead th {\n",
       "        text-align: right;\n",
       "    }\n",
       "</style>\n",
       "<table border=\"1\" class=\"dataframe\">\n",
       "  <thead>\n",
       "    <tr style=\"text-align: right;\">\n",
       "      <th></th>\n",
       "      <th>Year</th>\n",
       "      <th>Month</th>\n",
       "      <th>Palestinians Injuries</th>\n",
       "      <th>Israelis Injuries</th>\n",
       "      <th>Palestinians Killed</th>\n",
       "      <th>Israelis Killed</th>\n",
       "    </tr>\n",
       "  </thead>\n",
       "  <tbody>\n",
       "    <tr>\n",
       "      <th>0</th>\n",
       "      <td>2000.0</td>\n",
       "      <td>DECEMBER</td>\n",
       "      <td>781</td>\n",
       "      <td>NaN</td>\n",
       "      <td>51</td>\n",
       "      <td>8</td>\n",
       "    </tr>\n",
       "    <tr>\n",
       "      <th>1</th>\n",
       "      <td>2000.0</td>\n",
       "      <td>NOVEMBER</td>\n",
       "      <td>3838</td>\n",
       "      <td>NaN</td>\n",
       "      <td>112</td>\n",
       "      <td>22</td>\n",
       "    </tr>\n",
       "    <tr>\n",
       "      <th>2</th>\n",
       "      <td>2000.0</td>\n",
       "      <td>OCTOBER</td>\n",
       "      <td>5984</td>\n",
       "      <td>NaN</td>\n",
       "      <td>104</td>\n",
       "      <td>10</td>\n",
       "    </tr>\n",
       "    <tr>\n",
       "      <th>3</th>\n",
       "      <td>2000.0</td>\n",
       "      <td>SEPTEMBER</td>\n",
       "      <td>NaN</td>\n",
       "      <td>NaN</td>\n",
       "      <td>16</td>\n",
       "      <td>1</td>\n",
       "    </tr>\n",
       "    <tr>\n",
       "      <th>4</th>\n",
       "      <td>2001.0</td>\n",
       "      <td>DECEMBER</td>\n",
       "      <td>304</td>\n",
       "      <td>NaN</td>\n",
       "      <td>67</td>\n",
       "      <td>36</td>\n",
       "    </tr>\n",
       "  </tbody>\n",
       "</table>\n",
       "</div>"
      ],
      "text/plain": [
       "     Year      Month Palestinians Injuries Israelis Injuries  \\\n",
       "0  2000.0   DECEMBER                   781               NaN   \n",
       "1  2000.0   NOVEMBER                  3838               NaN   \n",
       "2  2000.0    OCTOBER                  5984               NaN   \n",
       "3  2000.0  SEPTEMBER                   NaN               NaN   \n",
       "4  2001.0   DECEMBER                   304               NaN   \n",
       "\n",
       "  Palestinians Killed Israelis Killed  \n",
       "0                  51               8  \n",
       "1                 112              22  \n",
       "2                 104              10  \n",
       "3                  16               1  \n",
       "4                  67              36  "
      ]
     },
     "execution_count": 170,
     "metadata": {},
     "output_type": "execute_result"
    }
   ],
   "source": [
    "dados.head()"
   ]
  },
  {
   "cell_type": "markdown",
   "id": "fa25efff",
   "metadata": {},
   "source": [
    "<h2>Limpeza do Dataset</h2>\n",
    "<hr>"
   ]
  },
  {
   "cell_type": "markdown",
   "id": "667305de",
   "metadata": {},
   "source": [
    "<p style= 'font-size: 16px; color: DarkBlue;\t'> &diams; Checando variáveis e alterando colunas</p>"
   ]
  },
  {
   "cell_type": "code",
   "execution_count": 171,
   "id": "73e722d7",
   "metadata": {},
   "outputs": [
    {
     "data": {
      "text/plain": [
       "array([2000., 2001., 2002., 2003., 2004., 2005., 2006., 2007., 2008.,\n",
       "       2009., 2010., 2011., 2012., 2013., 2014., 2015., 2016., 2017.,\n",
       "       2018., 2019., 2020., 2021.,   nan])"
      ]
     },
     "execution_count": 171,
     "metadata": {},
     "output_type": "execute_result"
    }
   ],
   "source": [
    "dados['Year'].unique()"
   ]
  },
  {
   "cell_type": "code",
   "execution_count": 172,
   "id": "d55e95dc",
   "metadata": {},
   "outputs": [
    {
     "data": {
      "text/plain": [
       "118"
      ]
     },
     "execution_count": 172,
     "metadata": {},
     "output_type": "execute_result"
    }
   ],
   "source": [
    "dados['Israelis Injuries'].isna().sum()"
   ]
  },
  {
   "cell_type": "code",
   "execution_count": 173,
   "id": "8822714c",
   "metadata": {},
   "outputs": [
    {
     "data": {
      "text/plain": [
       "55"
      ]
     },
     "execution_count": 173,
     "metadata": {},
     "output_type": "execute_result"
    }
   ],
   "source": [
    "dados['Palestinians Injuries'].isna().sum()"
   ]
  },
  {
   "cell_type": "code",
   "execution_count": 174,
   "id": "aaa57330",
   "metadata": {
    "scrolled": true
   },
   "outputs": [
    {
     "name": "stdout",
     "output_type": "stream",
     "text": [
      "Valores nan \"Palestinians Injuries\" =  55\n",
      "Valores nan \"Palestinians Killed\" =  1\n",
      "Valores nan \"Israelis Injuries\" =  118\n",
      "Valores nan \"Israelis Killed\" =  1\n"
     ]
    }
   ],
   "source": [
    "print('Valores nan \"Palestinians Injuries\" = ', dados['Palestinians Injuries'].isna().sum())\n",
    "print('Valores nan \"Palestinians Killed\" = ', dados['Palestinians Killed'].isna().sum())\n",
    "print('Valores nan \"Israelis Injuries\" = ', dados['Israelis Injuries'].isna().sum())\n",
    "print('Valores nan \"Israelis Killed\" = ', dados['Israelis Killed'].isna().sum())"
   ]
  },
  {
   "cell_type": "code",
   "execution_count": 175,
   "id": "2f227b31",
   "metadata": {},
   "outputs": [
    {
     "name": "stdout",
     "output_type": "stream",
     "text": [
      "Ano minimo :  2000.0\n",
      "Ano minimo :  2021.0\n"
     ]
    }
   ],
   "source": [
    "print('Ano minimo : ',dados['Year'].min())\n",
    "print('Ano minimo : ',dados['Year'].max())"
   ]
  },
  {
   "cell_type": "code",
   "execution_count": 176,
   "id": "c3cc3f54",
   "metadata": {},
   "outputs": [
    {
     "data": {
      "text/html": [
       "<div>\n",
       "<style scoped>\n",
       "    .dataframe tbody tr th:only-of-type {\n",
       "        vertical-align: middle;\n",
       "    }\n",
       "\n",
       "    .dataframe tbody tr th {\n",
       "        vertical-align: top;\n",
       "    }\n",
       "\n",
       "    .dataframe thead th {\n",
       "        text-align: right;\n",
       "    }\n",
       "</style>\n",
       "<table border=\"1\" class=\"dataframe\">\n",
       "  <thead>\n",
       "    <tr style=\"text-align: right;\">\n",
       "      <th></th>\n",
       "      <th>year</th>\n",
       "      <th>month</th>\n",
       "      <th>palestinians_injuries</th>\n",
       "      <th>israelis_injuries</th>\n",
       "      <th>palestinians_killed</th>\n",
       "      <th>israelis_killed</th>\n",
       "    </tr>\n",
       "  </thead>\n",
       "  <tbody>\n",
       "    <tr>\n",
       "      <th>0</th>\n",
       "      <td>2000.0</td>\n",
       "      <td>DECEMBER</td>\n",
       "      <td>781</td>\n",
       "      <td>NaN</td>\n",
       "      <td>51</td>\n",
       "      <td>8</td>\n",
       "    </tr>\n",
       "    <tr>\n",
       "      <th>1</th>\n",
       "      <td>2000.0</td>\n",
       "      <td>NOVEMBER</td>\n",
       "      <td>3838</td>\n",
       "      <td>NaN</td>\n",
       "      <td>112</td>\n",
       "      <td>22</td>\n",
       "    </tr>\n",
       "    <tr>\n",
       "      <th>2</th>\n",
       "      <td>2000.0</td>\n",
       "      <td>OCTOBER</td>\n",
       "      <td>5984</td>\n",
       "      <td>NaN</td>\n",
       "      <td>104</td>\n",
       "      <td>10</td>\n",
       "    </tr>\n",
       "    <tr>\n",
       "      <th>3</th>\n",
       "      <td>2000.0</td>\n",
       "      <td>SEPTEMBER</td>\n",
       "      <td>NaN</td>\n",
       "      <td>NaN</td>\n",
       "      <td>16</td>\n",
       "      <td>1</td>\n",
       "    </tr>\n",
       "    <tr>\n",
       "      <th>4</th>\n",
       "      <td>2001.0</td>\n",
       "      <td>DECEMBER</td>\n",
       "      <td>304</td>\n",
       "      <td>NaN</td>\n",
       "      <td>67</td>\n",
       "      <td>36</td>\n",
       "    </tr>\n",
       "  </tbody>\n",
       "</table>\n",
       "</div>"
      ],
      "text/plain": [
       "     year      month palestinians_injuries israelis_injuries  \\\n",
       "0  2000.0   DECEMBER                   781               NaN   \n",
       "1  2000.0   NOVEMBER                  3838               NaN   \n",
       "2  2000.0    OCTOBER                  5984               NaN   \n",
       "3  2000.0  SEPTEMBER                   NaN               NaN   \n",
       "4  2001.0   DECEMBER                   304               NaN   \n",
       "\n",
       "  palestinians_killed israelis_killed  \n",
       "0                  51               8  \n",
       "1                 112              22  \n",
       "2                 104              10  \n",
       "3                  16               1  \n",
       "4                  67              36  "
      ]
     },
     "execution_count": 176,
     "metadata": {},
     "output_type": "execute_result"
    }
   ],
   "source": [
    "dados_ = dados.rename(columns={'Year': 'year', 'Month': 'month', 'Palestinians Injuries': 'palestinians_injuries', \n",
    "                    'Israelis Injuries': 'israelis_injuries', 'Palestinians Killed': 'palestinians_killed',\n",
    "                    'Israelis Killed': 'israelis_killed'})\n",
    "dados_.head()"
   ]
  },
  {
   "cell_type": "markdown",
   "id": "9bc48287",
   "metadata": {},
   "source": [
    "<p style= 'font-size: 16px; color: DarkBlue;'> &diams; Removendo valores Nan</p>"
   ]
  },
  {
   "cell_type": "code",
   "execution_count": 177,
   "id": "5af48437",
   "metadata": {},
   "outputs": [
    {
     "data": {
      "text/html": [
       "<div>\n",
       "<style scoped>\n",
       "    .dataframe tbody tr th:only-of-type {\n",
       "        vertical-align: middle;\n",
       "    }\n",
       "\n",
       "    .dataframe tbody tr th {\n",
       "        vertical-align: top;\n",
       "    }\n",
       "\n",
       "    .dataframe thead th {\n",
       "        text-align: right;\n",
       "    }\n",
       "</style>\n",
       "<table border=\"1\" class=\"dataframe\">\n",
       "  <thead>\n",
       "    <tr style=\"text-align: right;\">\n",
       "      <th></th>\n",
       "      <th>year</th>\n",
       "      <th>month</th>\n",
       "      <th>palestinians_injuries</th>\n",
       "      <th>israelis_injuries</th>\n",
       "      <th>palestinians_killed</th>\n",
       "      <th>israelis_killed</th>\n",
       "    </tr>\n",
       "  </thead>\n",
       "  <tbody>\n",
       "    <tr>\n",
       "      <th>0</th>\n",
       "      <td>2000.0</td>\n",
       "      <td>DECEMBER</td>\n",
       "      <td>781</td>\n",
       "      <td>0</td>\n",
       "      <td>51</td>\n",
       "      <td>8</td>\n",
       "    </tr>\n",
       "    <tr>\n",
       "      <th>1</th>\n",
       "      <td>2000.0</td>\n",
       "      <td>NOVEMBER</td>\n",
       "      <td>3838</td>\n",
       "      <td>0</td>\n",
       "      <td>112</td>\n",
       "      <td>22</td>\n",
       "    </tr>\n",
       "    <tr>\n",
       "      <th>2</th>\n",
       "      <td>2000.0</td>\n",
       "      <td>OCTOBER</td>\n",
       "      <td>5984</td>\n",
       "      <td>0</td>\n",
       "      <td>104</td>\n",
       "      <td>10</td>\n",
       "    </tr>\n",
       "    <tr>\n",
       "      <th>3</th>\n",
       "      <td>2000.0</td>\n",
       "      <td>SEPTEMBER</td>\n",
       "      <td>0</td>\n",
       "      <td>0</td>\n",
       "      <td>16</td>\n",
       "      <td>1</td>\n",
       "    </tr>\n",
       "    <tr>\n",
       "      <th>4</th>\n",
       "      <td>2001.0</td>\n",
       "      <td>DECEMBER</td>\n",
       "      <td>304</td>\n",
       "      <td>0</td>\n",
       "      <td>67</td>\n",
       "      <td>36</td>\n",
       "    </tr>\n",
       "    <tr>\n",
       "      <th>...</th>\n",
       "      <td>...</td>\n",
       "      <td>...</td>\n",
       "      <td>...</td>\n",
       "      <td>...</td>\n",
       "      <td>...</td>\n",
       "      <td>...</td>\n",
       "    </tr>\n",
       "    <tr>\n",
       "      <th>246</th>\n",
       "      <td>2021.0</td>\n",
       "      <td>MARCH</td>\n",
       "      <td>0</td>\n",
       "      <td>0</td>\n",
       "      <td>4</td>\n",
       "      <td>0</td>\n",
       "    </tr>\n",
       "    <tr>\n",
       "      <th>247</th>\n",
       "      <td>2021.0</td>\n",
       "      <td>APRIL</td>\n",
       "      <td>0</td>\n",
       "      <td>0</td>\n",
       "      <td>1</td>\n",
       "      <td>0</td>\n",
       "    </tr>\n",
       "    <tr>\n",
       "      <th>248</th>\n",
       "      <td>2021.0</td>\n",
       "      <td>MAY</td>\n",
       "      <td>0</td>\n",
       "      <td>0</td>\n",
       "      <td>26</td>\n",
       "      <td>3</td>\n",
       "    </tr>\n",
       "    <tr>\n",
       "      <th>249</th>\n",
       "      <td>0.0</td>\n",
       "      <td>0</td>\n",
       "      <td>0</td>\n",
       "      <td>0</td>\n",
       "      <td>0</td>\n",
       "      <td>0</td>\n",
       "    </tr>\n",
       "    <tr>\n",
       "      <th>250</th>\n",
       "      <td>0.0</td>\n",
       "      <td>0</td>\n",
       "      <td>111,475</td>\n",
       "      <td>5,160</td>\n",
       "      <td>10,000</td>\n",
       "      <td>1,275</td>\n",
       "    </tr>\n",
       "  </tbody>\n",
       "</table>\n",
       "<p>251 rows × 6 columns</p>\n",
       "</div>"
      ],
      "text/plain": [
       "       year      month palestinians_injuries israelis_injuries  \\\n",
       "0    2000.0   DECEMBER                   781                 0   \n",
       "1    2000.0   NOVEMBER                  3838                 0   \n",
       "2    2000.0    OCTOBER                  5984                 0   \n",
       "3    2000.0  SEPTEMBER                     0                 0   \n",
       "4    2001.0   DECEMBER                   304                 0   \n",
       "..      ...        ...                   ...               ...   \n",
       "246  2021.0      MARCH                     0                 0   \n",
       "247  2021.0      APRIL                     0                 0   \n",
       "248  2021.0        MAY                     0                 0   \n",
       "249     0.0          0                     0                 0   \n",
       "250     0.0          0               111,475             5,160   \n",
       "\n",
       "    palestinians_killed israelis_killed  \n",
       "0                    51               8  \n",
       "1                   112              22  \n",
       "2                   104              10  \n",
       "3                    16               1  \n",
       "4                    67              36  \n",
       "..                  ...             ...  \n",
       "246                   4               0  \n",
       "247                   1               0  \n",
       "248                  26               3  \n",
       "249                   0               0  \n",
       "250              10,000           1,275  \n",
       "\n",
       "[251 rows x 6 columns]"
      ]
     },
     "execution_count": 177,
     "metadata": {},
     "output_type": "execute_result"
    }
   ],
   "source": [
    "dados_.fillna(0)"
   ]
  },
  {
   "cell_type": "code",
   "execution_count": 178,
   "id": "a287e550",
   "metadata": {},
   "outputs": [],
   "source": [
    "dados_['israelis_killed'] = dados_['israelis_killed'].str.strip()\n",
    "dados_['palestinians_killed'] = dados_['palestinians_killed'].str.strip()\n",
    "dados_['israelis_injuries'] = dados_['israelis_injuries'].str.strip()\n",
    "dados_['palestinians_injuries'] = dados_['palestinians_injuries'].str.strip()"
   ]
  },
  {
   "cell_type": "markdown",
   "id": "fdf67c75",
   "metadata": {},
   "source": [
    "<p style= 'font-size: 16px; color: DarkBlue;'> &diams; Convertendo <b>Vírgula</b> para <b>Ponto</b> e transformando em inteiro</p>"
   ]
  },
  {
   "cell_type": "code",
   "execution_count": 179,
   "id": "fbb86253",
   "metadata": {},
   "outputs": [],
   "source": [
    "dados_['israelis_killed'] = dados_['israelis_killed'].str.replace(',', '.')\n",
    "dados_['palestinians_killed'] = dados_['palestinians_killed'].str.replace(',', '.')\n",
    "dados_['israelis_injuries'] = dados_['israelis_injuries'].str.replace(',', '.')\n",
    "dados_['palestinians_injuries'] = dados_['palestinians_injuries'].str.replace(',', '.')"
   ]
  },
  {
   "cell_type": "code",
   "execution_count": 180,
   "id": "e5d8d298",
   "metadata": {},
   "outputs": [
    {
     "name": "stderr",
     "output_type": "stream",
     "text": [
      "C:\\Users\\henri\\AppData\\Local\\Temp\\ipykernel_4676\\1562349070.py:2: FutureWarning: In a future version, `df.iloc[:, i] = newvals` will attempt to set the values inplace instead of always setting a new array. To retain the old behavior, use either `df[df.columns[i]] = newvals` or, if columns are non-unique, `df.isetitem(i, newvals)`\n",
      "  dados_.loc[:, 'year'] = dados_['year'].astype('int64')\n"
     ]
    }
   ],
   "source": [
    "dados_ = dados_.dropna(subset=['year'])\n",
    "dados_.loc[:, 'year'] = dados_['year'].astype('int64')"
   ]
  },
  {
   "cell_type": "markdown",
   "id": "538ff9d8",
   "metadata": {},
   "source": [
    "<p style= 'font-size: 16px; color: DarkBlue;'> &diams; Remoção de Strings e Conversão de valores das variáveis para <b>Numérico</b></p>"
   ]
  },
  {
   "cell_type": "code",
   "execution_count": 181,
   "id": "8503599e",
   "metadata": {},
   "outputs": [
    {
     "data": {
      "text/plain": [
       "array(['DECEMBER', 'NOVEMBER', 'OCTOBER', 'SEPTEMBER', 'AUGUST', 'JULY',\n",
       "       'JUNE', 'MAY', 'APRIL', 'MARCH', 'FEBRUARY', 'JANUARY',\n",
       "       'MAY & JUNE', 'MAY '], dtype=object)"
      ]
     },
     "execution_count": 181,
     "metadata": {},
     "output_type": "execute_result"
    }
   ],
   "source": [
    "dados_['month'].unique()"
   ]
  },
  {
   "cell_type": "code",
   "execution_count": 182,
   "id": "1b2de164",
   "metadata": {},
   "outputs": [
    {
     "data": {
      "text/html": [
       "<div>\n",
       "<style scoped>\n",
       "    .dataframe tbody tr th:only-of-type {\n",
       "        vertical-align: middle;\n",
       "    }\n",
       "\n",
       "    .dataframe tbody tr th {\n",
       "        vertical-align: top;\n",
       "    }\n",
       "\n",
       "    .dataframe thead th {\n",
       "        text-align: right;\n",
       "    }\n",
       "</style>\n",
       "<table border=\"1\" class=\"dataframe\">\n",
       "  <thead>\n",
       "    <tr style=\"text-align: right;\">\n",
       "      <th></th>\n",
       "      <th>year</th>\n",
       "      <th>month</th>\n",
       "      <th>palestinians_injuries</th>\n",
       "      <th>israelis_injuries</th>\n",
       "      <th>palestinians_killed</th>\n",
       "      <th>israelis_killed</th>\n",
       "    </tr>\n",
       "  </thead>\n",
       "  <tbody>\n",
       "    <tr>\n",
       "      <th>165</th>\n",
       "      <td>2014</td>\n",
       "      <td>JULY</td>\n",
       "      <td>(incl. Aug)</td>\n",
       "      <td>(incl. Aug)</td>\n",
       "      <td>1590</td>\n",
       "      <td>59</td>\n",
       "    </tr>\n",
       "  </tbody>\n",
       "</table>\n",
       "</div>"
      ],
      "text/plain": [
       "     year month palestinians_injuries israelis_injuries palestinians_killed  \\\n",
       "165  2014  JULY           (incl. Aug)       (incl. Aug)                1590   \n",
       "\n",
       "    israelis_killed  \n",
       "165              59  "
      ]
     },
     "execution_count": 182,
     "metadata": {},
     "output_type": "execute_result"
    }
   ],
   "source": [
    "dados_[dados_['palestinians_injuries'] == '(incl. Aug)']"
   ]
  },
  {
   "cell_type": "code",
   "execution_count": 183,
   "id": "c641021c",
   "metadata": {},
   "outputs": [
    {
     "data": {
      "text/html": [
       "<div>\n",
       "<style scoped>\n",
       "    .dataframe tbody tr th:only-of-type {\n",
       "        vertical-align: middle;\n",
       "    }\n",
       "\n",
       "    .dataframe tbody tr th {\n",
       "        vertical-align: top;\n",
       "    }\n",
       "\n",
       "    .dataframe thead th {\n",
       "        text-align: right;\n",
       "    }\n",
       "</style>\n",
       "<table border=\"1\" class=\"dataframe\">\n",
       "  <thead>\n",
       "    <tr style=\"text-align: right;\">\n",
       "      <th></th>\n",
       "      <th>year</th>\n",
       "      <th>month</th>\n",
       "      <th>palestinians_injuries</th>\n",
       "      <th>israelis_injuries</th>\n",
       "      <th>palestinians_killed</th>\n",
       "      <th>israelis_killed</th>\n",
       "    </tr>\n",
       "  </thead>\n",
       "  <tbody>\n",
       "    <tr>\n",
       "      <th>165</th>\n",
       "      <td>2014</td>\n",
       "      <td>JULY</td>\n",
       "      <td>(incl. Aug)</td>\n",
       "      <td>(incl. Aug)</td>\n",
       "      <td>1590</td>\n",
       "      <td>59</td>\n",
       "    </tr>\n",
       "  </tbody>\n",
       "</table>\n",
       "</div>"
      ],
      "text/plain": [
       "     year month palestinians_injuries israelis_injuries palestinians_killed  \\\n",
       "165  2014  JULY           (incl. Aug)       (incl. Aug)                1590   \n",
       "\n",
       "    israelis_killed  \n",
       "165              59  "
      ]
     },
     "execution_count": 183,
     "metadata": {},
     "output_type": "execute_result"
    }
   ],
   "source": [
    "dados_[dados_['israelis_injuries'] == '(incl. Aug)']"
   ]
  },
  {
   "cell_type": "code",
   "execution_count": 184,
   "id": "fcd2e5d7",
   "metadata": {},
   "outputs": [
    {
     "data": {
      "text/plain": [
       "array(['781', '3838', '5984', nan, '304', '160', '407', '657', '502',\n",
       "       '394', '319', '932', '715', '927', '598', '471', '185', '264',\n",
       "       '388', '353', '186', '374', '299', '181', '523', '870', '429',\n",
       "       '330', '322', '106', '289', '226', '191', '34', '367', '239',\n",
       "       '303', '379', '244', '292', '161', '98', '343', '579', '287',\n",
       "       '251', '377', '545', '346', '417', '437', '168', '166', '99', '81',\n",
       "       '90', '130', '165', '116', '183', '68', '42', '164', '73', '491',\n",
       "       '180', '196', '266', '799', '198', '257', '254', '203', '194',\n",
       "       '88', '13720', '127', '152', '135', '154', '67', '162', '281',\n",
       "       '115', '153', '256', '104', '195', '30', '80', '36', '26', '89',\n",
       "       '82', '136', '87', '65', '5557', '105', '147', '148', '46', '85',\n",
       "       '118', '119', '402', '92', '86', '210', '63', '110', '149', '156',\n",
       "       '159', '397', '193', '204', '143', '2252', '169', '202', '231',\n",
       "       '703', '404', '60', '320', '137', '138', '124', '656', '493',\n",
       "       '766', '263', '350', '984', '291', '209', '13735', '(incl. Aug)',\n",
       "       '326', '265', '302', '228', '216', '219', '2222', '3888', '7555',\n",
       "       '413', '141', '78', '284', '223', '176', '167', '134', '97', '261',\n",
       "       '434', '286', '348', '514', '582', '4580', '120', '1772', '790',\n",
       "       '(incl. Jun)', '150', '189', '44'], dtype=object)"
      ]
     },
     "execution_count": 184,
     "metadata": {},
     "output_type": "execute_result"
    }
   ],
   "source": [
    "dados_['palestinians_injuries'].unique()"
   ]
  },
  {
   "cell_type": "code",
   "execution_count": 185,
   "id": "49c4ad29",
   "metadata": {},
   "outputs": [
    {
     "data": {
      "text/plain": [
       "array([nan, '88', '17', '46', '25', '16', '105', '20', '19', '62', '61',\n",
       "       '12', '30', '24', '10', '41', '26', '14', '78', '47', '6', '13',\n",
       "       '87', '56', '7', '22', '15', '35', '5', '11', '0', '21', '59', '3',\n",
       "       '9', '36', '253', '1', '4', '33', '55', '32', '2347',\n",
       "       '(incl. Aug)', '28', '43', '50', '80', '39', '8', '18', '2', '27',\n",
       "       '23', '(incl. Jun)', '37'], dtype=object)"
      ]
     },
     "execution_count": 185,
     "metadata": {},
     "output_type": "execute_result"
    }
   ],
   "source": [
    "dados_['israelis_injuries'].unique()"
   ]
  },
  {
   "cell_type": "code",
   "execution_count": 186,
   "id": "10a1f563",
   "metadata": {},
   "outputs": [],
   "source": [
    "dados_['palestinians_injuries'] = dados_['palestinians_injuries'].replace('(incl. Aug)', '0')\n",
    "dados_['palestinians_injuries'] = dados_['palestinians_injuries'].replace('(incl. Jun)', '0')\n",
    "\n",
    "dados_['israelis_injuries'] = dados_['israelis_injuries'].replace('(incl. Aug)', '0')\n",
    "dados_['israelis_injuries'] = dados_['israelis_injuries'].replace('(incl. Jun)', '0')"
   ]
  },
  {
   "cell_type": "code",
   "execution_count": 187,
   "id": "679328c1",
   "metadata": {},
   "outputs": [
    {
     "data": {
      "text/html": [
       "<div>\n",
       "<style scoped>\n",
       "    .dataframe tbody tr th:only-of-type {\n",
       "        vertical-align: middle;\n",
       "    }\n",
       "\n",
       "    .dataframe tbody tr th {\n",
       "        vertical-align: top;\n",
       "    }\n",
       "\n",
       "    .dataframe thead th {\n",
       "        text-align: right;\n",
       "    }\n",
       "</style>\n",
       "<table border=\"1\" class=\"dataframe\">\n",
       "  <thead>\n",
       "    <tr style=\"text-align: right;\">\n",
       "      <th></th>\n",
       "      <th>year</th>\n",
       "      <th>month</th>\n",
       "      <th>palestinians_injuries</th>\n",
       "      <th>israelis_injuries</th>\n",
       "      <th>palestinians_killed</th>\n",
       "      <th>israelis_killed</th>\n",
       "    </tr>\n",
       "  </thead>\n",
       "  <tbody>\n",
       "    <tr>\n",
       "      <th>203</th>\n",
       "      <td>2017</td>\n",
       "      <td>MAY &amp; JUNE</td>\n",
       "      <td>0</td>\n",
       "      <td>0</td>\n",
       "      <td>6</td>\n",
       "      <td>0</td>\n",
       "    </tr>\n",
       "  </tbody>\n",
       "</table>\n",
       "</div>"
      ],
      "text/plain": [
       "     year       month palestinians_injuries israelis_injuries  \\\n",
       "203  2017  MAY & JUNE                     0                 0   \n",
       "\n",
       "    palestinians_killed israelis_killed  \n",
       "203                   6               0  "
      ]
     },
     "execution_count": 187,
     "metadata": {},
     "output_type": "execute_result"
    }
   ],
   "source": [
    "dados_[dados_['month'] == 'MAY & JUNE']"
   ]
  },
  {
   "cell_type": "code",
   "execution_count": 188,
   "id": "a7a9c66a",
   "metadata": {},
   "outputs": [],
   "source": [
    "dados_['month'] = dados_['month'].replace('MAY & JUNE', 'MAY')"
   ]
  },
  {
   "cell_type": "code",
   "execution_count": 189,
   "id": "aada5c5a",
   "metadata": {},
   "outputs": [],
   "source": [
    "dados_['israelis_killed'] = pd.to_numeric(dados_['israelis_killed'])\n",
    "dados_['palestinians_killed'] = pd.to_numeric(dados_['palestinians_killed'])\n",
    "dados_['israelis_injuries'] = pd.to_numeric(dados_['israelis_injuries'])\n",
    "dados_['palestinians_injuries'] = pd.to_numeric(dados_['palestinians_injuries'])"
   ]
  },
  {
   "cell_type": "markdown",
   "id": "7dfa7935",
   "metadata": {},
   "source": [
    "<p style= 'font-size: 16px; color: DarkBlue;'> &diams; Testando as variáveis limpadas</p>"
   ]
  },
  {
   "cell_type": "code",
   "execution_count": 190,
   "id": "a396a433",
   "metadata": {},
   "outputs": [
    {
     "data": {
      "text/plain": [
       "[<matplotlib.lines.Line2D at 0x1938a2b4c10>]"
      ]
     },
     "execution_count": 190,
     "metadata": {},
     "output_type": "execute_result"
    },
    {
     "data": {
      "image/png": "[encoded data removed]",
      "text/plain": [
       "<Figure size 1100x500 with 4 Axes>"
      ]
     },
     "metadata": {},
     "output_type": "display_data"
    }
   ],
   "source": [
    "fig = plt.figure()\n",
    "gs = fig.add_gridspec(2, 2)\n",
    "(ax1, ax2), (ax3, ax4) = gs.subplots()\n",
    "fig.suptitle('Teste de Variáveis', fontsize=12)\n",
    "ax1.plot(dados_['israelis_killed'])\n",
    "ax2.plot(dados_['palestinians_killed'])\n",
    "ax3.plot(dados_['israelis_injuries'])\n",
    "ax4.plot(dados_['palestinians_injuries'])"
   ]
  },
  {
   "cell_type": "markdown",
   "id": "d3a4340d",
   "metadata": {},
   "source": [
    "<h2>Análise Descritiva</h2>\n",
    "<hr>"
   ]
  },
  {
   "cell_type": "code",
   "execution_count": 191,
   "id": "d627401f",
   "metadata": {},
   "outputs": [],
   "source": [
    "selec_00_09 = dados_.query('year <= 2009')"
   ]
  },
  {
   "cell_type": "code",
   "execution_count": 192,
   "id": "cd8b2d10",
   "metadata": {},
   "outputs": [],
   "source": [
    "selec_10_21 = dados_.query('year >= 2010')"
   ]
  },
  {
   "cell_type": "code",
   "execution_count": 193,
   "id": "37419ba6",
   "metadata": {},
   "outputs": [],
   "source": [
    "total_isr = selec_00_09['israelis_killed'].sum()"
   ]
  },
  {
   "cell_type": "code",
   "execution_count": 194,
   "id": "142c1928",
   "metadata": {},
   "outputs": [],
   "source": [
    "total_pales = selec_00_09['palestinians_killed'].sum()"
   ]
  },
  {
   "cell_type": "code",
   "execution_count": 195,
   "id": "d5e9fd4f",
   "metadata": {},
   "outputs": [],
   "source": [
    "total_isr_10_ = selec_10_21['israelis_killed'].sum()"
   ]
  },
  {
   "cell_type": "code",
   "execution_count": 196,
   "id": "f75531e2",
   "metadata": {},
   "outputs": [],
   "source": [
    "total_pales_10_ = selec_10_21['palestinians_killed'].sum()"
   ]
  },
  {
   "cell_type": "code",
   "execution_count": 197,
   "id": "4877cff3",
   "metadata": {},
   "outputs": [
    {
     "data": {
      "text/html": [
       "<div>\n",
       "<style scoped>\n",
       "    .dataframe tbody tr th:only-of-type {\n",
       "        vertical-align: middle;\n",
       "    }\n",
       "\n",
       "    .dataframe tbody tr th {\n",
       "        vertical-align: top;\n",
       "    }\n",
       "\n",
       "    .dataframe thead th {\n",
       "        text-align: right;\n",
       "    }\n",
       "</style>\n",
       "<table border=\"1\" class=\"dataframe\">\n",
       "  <thead>\n",
       "    <tr style=\"text-align: right;\">\n",
       "      <th></th>\n",
       "      <th>Beligerantes</th>\n",
       "      <th>Total 2000 - 2009</th>\n",
       "    </tr>\n",
       "  </thead>\n",
       "  <tbody>\n",
       "    <tr>\n",
       "      <th>0</th>\n",
       "      <td>Palestinos</td>\n",
       "      <td>6321</td>\n",
       "    </tr>\n",
       "    <tr>\n",
       "      <th>1</th>\n",
       "      <td>Israelenses</td>\n",
       "      <td>1072</td>\n",
       "    </tr>\n",
       "  </tbody>\n",
       "</table>\n",
       "</div>"
      ],
      "text/plain": [
       "  Beligerantes  Total 2000 - 2009\n",
       "0   Palestinos               6321\n",
       "1  Israelenses               1072"
      ]
     },
     "execution_count": 197,
     "metadata": {},
     "output_type": "execute_result"
    }
   ],
   "source": [
    "data_df = {'Beligerantes': ['Palestinos', 'Israelenses'], 'Total 2000 - 2009': [total_pales, total_isr]}\n",
    "df_data = pd.DataFrame(data_df)\n",
    "df_data"
   ]
  },
  {
   "cell_type": "code",
   "execution_count": 198,
   "id": "371e1992",
   "metadata": {},
   "outputs": [
    {
     "data": {
      "text/html": [
       "<div>\n",
       "<style scoped>\n",
       "    .dataframe tbody tr th:only-of-type {\n",
       "        vertical-align: middle;\n",
       "    }\n",
       "\n",
       "    .dataframe tbody tr th {\n",
       "        vertical-align: top;\n",
       "    }\n",
       "\n",
       "    .dataframe thead th {\n",
       "        text-align: right;\n",
       "    }\n",
       "</style>\n",
       "<table border=\"1\" class=\"dataframe\">\n",
       "  <thead>\n",
       "    <tr style=\"text-align: right;\">\n",
       "      <th></th>\n",
       "      <th>Beligerantes</th>\n",
       "      <th>Total 2010 - 2021</th>\n",
       "    </tr>\n",
       "  </thead>\n",
       "  <tbody>\n",
       "    <tr>\n",
       "      <th>0</th>\n",
       "      <td>Palestinos</td>\n",
       "      <td>3679</td>\n",
       "    </tr>\n",
       "    <tr>\n",
       "      <th>1</th>\n",
       "      <td>Israelenses</td>\n",
       "      <td>203</td>\n",
       "    </tr>\n",
       "  </tbody>\n",
       "</table>\n",
       "</div>"
      ],
      "text/plain": [
       "  Beligerantes  Total 2010 - 2021\n",
       "0   Palestinos               3679\n",
       "1  Israelenses                203"
      ]
     },
     "execution_count": 198,
     "metadata": {},
     "output_type": "execute_result"
    }
   ],
   "source": [
    "data_df_ = {'Beligerantes': ['Palestinos', 'Israelenses'], 'Total 2010 - 2021': [total_pales_10_, total_isr_10_]}\n",
    "df_data_ = pd.DataFrame(data_df_)\n",
    "df_data_"
   ]
  },
  {
   "cell_type": "code",
   "execution_count": 199,
   "id": "0fed107d",
   "metadata": {},
   "outputs": [
    {
     "data": {
      "text/plain": [
       "Text(0, 0.5, 'Baixas')"
      ]
     },
     "execution_count": 199,
     "metadata": {},
     "output_type": "execute_result"
    },
    {
     "data": {
      "image/png": "[encoded data removed]",
      "text/plain": [
       "<Figure size 1000x500 with 2 Axes>"
      ]
     },
     "metadata": {},
     "output_type": "display_data"
    }
   ],
   "source": [
    "fig, ax = plt.subplots(1, 2, figsize=(10, 5))\n",
    "fig.suptitle(\"Totais de Motos entre Palestinos e Israelenses, (Decadas de 2000 e 2010)\", fontsize=12)\n",
    "ax[0].bar(df_data['Beligerantes'], df_data['Total 2000 - 2009'], color='red')\n",
    "ax[0].set_title('Total de Baixas (2000 - 2009)', fontsize=10)\n",
    "ax[0].set_ylabel('Baixas', fontsize=9)\n",
    "ax[1].bar(df_data_['Beligerantes'], df_data_['Total 2010 - 2021'])\n",
    "ax[1].set_title('Total de Baixas (2010 - 2021)', fontsize=10)\n",
    "ax[1].set_ylabel('Baixas', fontsize=9)"
   ]
  },
  {
   "cell_type": "code",
   "execution_count": 200,
   "id": "982d7a6b",
   "metadata": {},
   "outputs": [
    {
     "data": {
      "text/html": [
       "<div>\n",
       "<style scoped>\n",
       "    .dataframe tbody tr th:only-of-type {\n",
       "        vertical-align: middle;\n",
       "    }\n",
       "\n",
       "    .dataframe tbody tr th {\n",
       "        vertical-align: top;\n",
       "    }\n",
       "\n",
       "    .dataframe thead th {\n",
       "        text-align: right;\n",
       "    }\n",
       "</style>\n",
       "<table border=\"1\" class=\"dataframe\">\n",
       "  <thead>\n",
       "    <tr style=\"text-align: right;\">\n",
       "      <th></th>\n",
       "      <th>month</th>\n",
       "      <th>palestinians_killed</th>\n",
       "    </tr>\n",
       "  </thead>\n",
       "  <tbody>\n",
       "    <tr>\n",
       "      <th>0</th>\n",
       "      <td>DECEMBER</td>\n",
       "      <td>51</td>\n",
       "    </tr>\n",
       "    <tr>\n",
       "      <th>1</th>\n",
       "      <td>NOVEMBER</td>\n",
       "      <td>112</td>\n",
       "    </tr>\n",
       "    <tr>\n",
       "      <th>2</th>\n",
       "      <td>OCTOBER</td>\n",
       "      <td>104</td>\n",
       "    </tr>\n",
       "    <tr>\n",
       "      <th>3</th>\n",
       "      <td>SEPTEMBER</td>\n",
       "      <td>16</td>\n",
       "    </tr>\n",
       "    <tr>\n",
       "      <th>4</th>\n",
       "      <td>DECEMBER</td>\n",
       "      <td>67</td>\n",
       "    </tr>\n",
       "    <tr>\n",
       "      <th>...</th>\n",
       "      <td>...</td>\n",
       "      <td>...</td>\n",
       "    </tr>\n",
       "    <tr>\n",
       "      <th>244</th>\n",
       "      <td>JANUARY</td>\n",
       "      <td>4</td>\n",
       "    </tr>\n",
       "    <tr>\n",
       "      <th>245</th>\n",
       "      <td>FEBRUARY</td>\n",
       "      <td>1</td>\n",
       "    </tr>\n",
       "    <tr>\n",
       "      <th>246</th>\n",
       "      <td>MARCH</td>\n",
       "      <td>4</td>\n",
       "    </tr>\n",
       "    <tr>\n",
       "      <th>247</th>\n",
       "      <td>APRIL</td>\n",
       "      <td>1</td>\n",
       "    </tr>\n",
       "    <tr>\n",
       "      <th>248</th>\n",
       "      <td>MAY</td>\n",
       "      <td>26</td>\n",
       "    </tr>\n",
       "  </tbody>\n",
       "</table>\n",
       "<p>249 rows × 2 columns</p>\n",
       "</div>"
      ],
      "text/plain": [
       "         month  palestinians_killed\n",
       "0     DECEMBER                   51\n",
       "1     NOVEMBER                  112\n",
       "2      OCTOBER                  104\n",
       "3    SEPTEMBER                   16\n",
       "4     DECEMBER                   67\n",
       "..         ...                  ...\n",
       "244    JANUARY                    4\n",
       "245   FEBRUARY                    1\n",
       "246      MARCH                    4\n",
       "247      APRIL                    1\n",
       "248        MAY                   26\n",
       "\n",
       "[249 rows x 2 columns]"
      ]
     },
     "execution_count": 200,
     "metadata": {},
     "output_type": "execute_result"
    }
   ],
   "source": [
    "dados_[['month', 'palestinians_killed']]"
   ]
  },
  {
   "cell_type": "code",
   "execution_count": 217,
   "id": "226c18a0",
   "metadata": {},
   "outputs": [],
   "source": [
    "#data_mes = dados_.groupby('month', axis=0).sum()\n",
    "#data_mes = data_mes.drop(['year'], axis=1)\n",
    "#data_mes"
   ]
  },
  {
   "cell_type": "code",
   "execution_count": 213,
   "id": "015ac9f0",
   "metadata": {},
   "outputs": [
    {
     "name": "stderr",
     "output_type": "stream",
     "text": [
      "C:\\Users\\henri\\AppData\\Local\\Temp\\ipykernel_4676\\499766958.py:1: FutureWarning: The default value of numeric_only in DataFrameGroupBy.sum is deprecated. In a future version, numeric_only will default to False. Either specify numeric_only or select only columns which should be valid for the function.\n",
      "  data_ano = dados_.groupby('year', axis=0, as_index=False).sum()\n"
     ]
    },
    {
     "data": {
      "text/html": [
       "<div>\n",
       "<style scoped>\n",
       "    .dataframe tbody tr th:only-of-type {\n",
       "        vertical-align: middle;\n",
       "    }\n",
       "\n",
       "    .dataframe tbody tr th {\n",
       "        vertical-align: top;\n",
       "    }\n",
       "\n",
       "    .dataframe thead th {\n",
       "        text-align: right;\n",
       "    }\n",
       "</style>\n",
       "<table border=\"1\" class=\"dataframe\">\n",
       "  <thead>\n",
       "    <tr style=\"text-align: right;\">\n",
       "      <th></th>\n",
       "      <th>year</th>\n",
       "      <th>palestinians_injuries</th>\n",
       "      <th>israelis_injuries</th>\n",
       "      <th>palestinians_killed</th>\n",
       "      <th>israelis_killed</th>\n",
       "    </tr>\n",
       "  </thead>\n",
       "  <tbody>\n",
       "    <tr>\n",
       "      <th>0</th>\n",
       "      <td>2000</td>\n",
       "      <td>10603.0</td>\n",
       "      <td>0.0</td>\n",
       "      <td>283</td>\n",
       "      <td>41</td>\n",
       "    </tr>\n",
       "    <tr>\n",
       "      <th>1</th>\n",
       "      <td>2001</td>\n",
       "      <td>6386.0</td>\n",
       "      <td>0.0</td>\n",
       "      <td>470</td>\n",
       "      <td>192</td>\n",
       "    </tr>\n",
       "    <tr>\n",
       "      <th>2</th>\n",
       "      <td>2002</td>\n",
       "      <td>4382.0</td>\n",
       "      <td>0.0</td>\n",
       "      <td>1032</td>\n",
       "      <td>419</td>\n",
       "    </tr>\n",
       "    <tr>\n",
       "      <th>3</th>\n",
       "      <td>2003</td>\n",
       "      <td>2992.0</td>\n",
       "      <td>0.0</td>\n",
       "      <td>588</td>\n",
       "      <td>185</td>\n",
       "    </tr>\n",
       "    <tr>\n",
       "      <th>4</th>\n",
       "      <td>2004</td>\n",
       "      <td>4009.0</td>\n",
       "      <td>0.0</td>\n",
       "      <td>786</td>\n",
       "      <td>104</td>\n",
       "    </tr>\n",
       "  </tbody>\n",
       "</table>\n",
       "</div>"
      ],
      "text/plain": [
       "   year  palestinians_injuries  israelis_injuries  palestinians_killed  \\\n",
       "0  2000                10603.0                0.0                  283   \n",
       "1  2001                 6386.0                0.0                  470   \n",
       "2  2002                 4382.0                0.0                 1032   \n",
       "3  2003                 2992.0                0.0                  588   \n",
       "4  2004                 4009.0                0.0                  786   \n",
       "\n",
       "   israelis_killed  \n",
       "0               41  \n",
       "1              192  \n",
       "2              419  \n",
       "3              185  \n",
       "4              104  "
      ]
     },
     "execution_count": 213,
     "metadata": {},
     "output_type": "execute_result"
    }
   ],
   "source": [
    "data_ano = dados_.groupby('year', axis=0, as_index=False).sum()\n",
    "data_ano.head()"
   ]
  },
  {
   "cell_type": "code",
   "execution_count": 214,
   "id": "1c9143d9",
   "metadata": {},
   "outputs": [],
   "source": [
    "data_ano['palestinians_injuries'] = data_ano['palestinians_injuries'].astype('int64')\n",
    "data_ano['israelis_injuries'] = data_ano['israelis_injuries'].astype('int64')"
   ]
  },
  {
   "cell_type": "code",
   "execution_count": 216,
   "id": "7ff62e8e",
   "metadata": {},
   "outputs": [
    {
     "data": {
      "text/html": [
       "<div>\n",
       "<style scoped>\n",
       "    .dataframe tbody tr th:only-of-type {\n",
       "        vertical-align: middle;\n",
       "    }\n",
       "\n",
       "    .dataframe tbody tr th {\n",
       "        vertical-align: top;\n",
       "    }\n",
       "\n",
       "    .dataframe thead th {\n",
       "        text-align: right;\n",
       "    }\n",
       "</style>\n",
       "<table border=\"1\" class=\"dataframe\">\n",
       "  <thead>\n",
       "    <tr style=\"text-align: right;\">\n",
       "      <th></th>\n",
       "      <th>year</th>\n",
       "      <th>palestinians_injuries</th>\n",
       "      <th>israelis_injuries</th>\n",
       "      <th>palestinians_killed</th>\n",
       "      <th>israelis_killed</th>\n",
       "    </tr>\n",
       "  </thead>\n",
       "  <tbody>\n",
       "    <tr>\n",
       "      <th>0</th>\n",
       "      <td>2000</td>\n",
       "      <td>10603</td>\n",
       "      <td>0</td>\n",
       "      <td>283</td>\n",
       "      <td>41</td>\n",
       "    </tr>\n",
       "    <tr>\n",
       "      <th>1</th>\n",
       "      <td>2001</td>\n",
       "      <td>6386</td>\n",
       "      <td>0</td>\n",
       "      <td>470</td>\n",
       "      <td>192</td>\n",
       "    </tr>\n",
       "    <tr>\n",
       "      <th>2</th>\n",
       "      <td>2002</td>\n",
       "      <td>4382</td>\n",
       "      <td>0</td>\n",
       "      <td>1032</td>\n",
       "      <td>419</td>\n",
       "    </tr>\n",
       "    <tr>\n",
       "      <th>3</th>\n",
       "      <td>2003</td>\n",
       "      <td>2992</td>\n",
       "      <td>0</td>\n",
       "      <td>588</td>\n",
       "      <td>185</td>\n",
       "    </tr>\n",
       "    <tr>\n",
       "      <th>4</th>\n",
       "      <td>2004</td>\n",
       "      <td>4009</td>\n",
       "      <td>0</td>\n",
       "      <td>786</td>\n",
       "      <td>104</td>\n",
       "    </tr>\n",
       "  </tbody>\n",
       "</table>\n",
       "</div>"
      ],
      "text/plain": [
       "   year  palestinians_injuries  israelis_injuries  palestinians_killed  \\\n",
       "0  2000                  10603                  0                  283   \n",
       "1  2001                   6386                  0                  470   \n",
       "2  2002                   4382                  0                 1032   \n",
       "3  2003                   2992                  0                  588   \n",
       "4  2004                   4009                  0                  786   \n",
       "\n",
       "   israelis_killed  \n",
       "0               41  \n",
       "1              192  \n",
       "2              419  \n",
       "3              185  \n",
       "4              104  "
      ]
     },
     "execution_count": 216,
     "metadata": {},
     "output_type": "execute_result"
    }
   ],
   "source": [
    "data_ano.head()"
   ]
  },
  {
   "cell_type": "code",
   "execution_count": 235,
   "id": "3aefdadf",
   "metadata": {},
   "outputs": [
    {
     "data": {
      "text/html": [
       "<div>\n",
       "<style scoped>\n",
       "    .dataframe tbody tr th:only-of-type {\n",
       "        vertical-align: middle;\n",
       "    }\n",
       "\n",
       "    .dataframe tbody tr th {\n",
       "        vertical-align: top;\n",
       "    }\n",
       "\n",
       "    .dataframe thead th {\n",
       "        text-align: right;\n",
       "    }\n",
       "</style>\n",
       "<table border=\"1\" class=\"dataframe\">\n",
       "  <thead>\n",
       "    <tr style=\"text-align: right;\">\n",
       "      <th></th>\n",
       "      <th>year</th>\n",
       "      <th>Palestinos-Feridos</th>\n",
       "      <th>Israelenses-Feridos</th>\n",
       "      <th>Palestinos-Mortos</th>\n",
       "      <th>Israelenses-Mortos</th>\n",
       "    </tr>\n",
       "  </thead>\n",
       "  <tbody>\n",
       "    <tr>\n",
       "      <th>0</th>\n",
       "      <td>2000</td>\n",
       "      <td>10603</td>\n",
       "      <td>0</td>\n",
       "      <td>283</td>\n",
       "      <td>41</td>\n",
       "    </tr>\n",
       "    <tr>\n",
       "      <th>1</th>\n",
       "      <td>2001</td>\n",
       "      <td>6386</td>\n",
       "      <td>0</td>\n",
       "      <td>470</td>\n",
       "      <td>192</td>\n",
       "    </tr>\n",
       "    <tr>\n",
       "      <th>2</th>\n",
       "      <td>2002</td>\n",
       "      <td>4382</td>\n",
       "      <td>0</td>\n",
       "      <td>1032</td>\n",
       "      <td>419</td>\n",
       "    </tr>\n",
       "    <tr>\n",
       "      <th>3</th>\n",
       "      <td>2003</td>\n",
       "      <td>2992</td>\n",
       "      <td>0</td>\n",
       "      <td>588</td>\n",
       "      <td>185</td>\n",
       "    </tr>\n",
       "  </tbody>\n",
       "</table>\n",
       "</div>"
      ],
      "text/plain": [
       "   year  Palestinos-Feridos  Israelenses-Feridos  Palestinos-Mortos  \\\n",
       "0  2000               10603                    0                283   \n",
       "1  2001                6386                    0                470   \n",
       "2  2002                4382                    0               1032   \n",
       "3  2003                2992                    0                588   \n",
       "\n",
       "   Israelenses-Mortos  \n",
       "0                  41  \n",
       "1                 192  \n",
       "2                 419  \n",
       "3                 185  "
      ]
     },
     "execution_count": 235,
     "metadata": {},
     "output_type": "execute_result"
    }
   ],
   "source": [
    "data_ano_ = data_ano.rename(columns={'palestinians_injuries': 'Palestinos-Feridos', 'israelis_injuries': 'Israelenses-Feridos', \n",
    "                                    'palestinians_killed': 'Palestinos-Mortos', 'israelis_killed': 'Israelenses-Mortos'})\n",
    "data_ano_.head(4)"
   ]
  },
  {
   "cell_type": "code",
   "execution_count": 248,
   "id": "e116aece",
   "metadata": {},
   "outputs": [
    {
     "data": {
      "text/plain": [
       "<AxesSubplot: title={'center': '\\n Feridos Palestinos-Israelenses\\n'}, xlabel='Anos'>"
      ]
     },
     "execution_count": 248,
     "metadata": {},
     "output_type": "execute_result"
    },
    {
     "data": {
      "image/png": "[encoded data removed]",
      "text/plain": [
       "<Figure size 1100x500 with 1 Axes>"
      ]
     },
     "metadata": {},
     "output_type": "display_data"
    }
   ],
   "source": [
    "data_ano_.plot.bar(x='year', y=['Palestinos-Mortos', 'Israelenses-Mortos'], figsize=(11, 5), \n",
    "                   title='\\n Feridos Palestinos-Israelenses\\n', xlabel='Anos', fontsize=10)"
   ]
  },
  {
   "cell_type": "code",
   "execution_count": 250,
   "id": "e0e42976",
   "metadata": {},
   "outputs": [
    {
     "data": {
      "text/plain": [
       "<AxesSubplot: title={'center': '\\n Feridos Palestinos-Israelenses\\n'}, xlabel='Anos'>"
      ]
     },
     "execution_count": 250,
     "metadata": {},
     "output_type": "execute_result"
    },
    {
     "data": {
      "image/png": "[encoded data removed]",
      "text/plain": [
       "<Figure size 900x500 with 1 Axes>"
      ]
     },
     "metadata": {},
     "output_type": "display_data"
    },
    {
     "data": {
      "image/png": "[encoded data removed]",
      "text/plain": [
       "<Figure size 900x500 with 1 Axes>"
      ]
     },
     "metadata": {},
     "output_type": "display_data"
    }
   ],
   "source": [
    "data_ano_.plot(x='year', y=['Palestinos-Mortos', 'Israelenses-Mortos'], figsize=(9, 5), \n",
    "                   title='\\n Mortos Palestinos-Israelenses\\n', xlabel='Anos', fontsize=10)\n",
    "data_ano_.plot(x='year', y=['Palestinos-Feridos', 'Israelenses-Feridos'], figsize=(9, 5), \n",
    "                   title='\\n Feridos Palestinos-Israelenses\\n', xlabel='Anos', fontsize=10)"
   ]
  },
  {
   "cell_type": "code",
   "execution_count": null,
   "id": "d0b5c5c9",
   "metadata": {},
   "outputs": [],
   "source": []
  }
 ],
 "metadata": {
  "kernelspec": {
   "display_name": "Python 3 (ipykernel)",
   "language": "python",
   "name": "python3"
  },
  "language_info": {
   "codemirror_mode": {
    "name": "ipython",
    "version": 3
   },
   "file_extension": ".py",
   "mimetype": "text/x-python",
   "name": "python",
   "nbconvert_exporter": "python",
   "pygments_lexer": "ipython3",
   "version": "3.9.12"
  }
 },
 "nbformat": 4,
 "nbformat_minor": 5
}
